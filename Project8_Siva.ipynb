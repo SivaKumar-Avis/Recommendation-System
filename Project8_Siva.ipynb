{
 "cells": [
  {
   "cell_type": "code",
   "execution_count": 0,
   "metadata": {
    "colab": {},
    "colab_type": "code",
    "id": "6RB9yf9K2JGM"
   },
   "outputs": [],
   "source": [
    "import numpy as np\n",
    "import pandas as pd\n",
    "import matplotlib.pyplot as plt\n",
    "import seaborn as sns\n",
    "\n",
    "from sklearn.model_selection import RandomizedSearchCV\n",
    "from pprint import pprint\n",
    "\n",
    "from sklearn import preprocessing\n",
    "from sklearn import metrics\n",
    "from sklearn.model_selection import train_test_split\n",
    "from sklearn.metrics import accuracy_score, confusion_matrix, classification_report,roc_curve, auc, roc_auc_score\n",
    "from sklearn.neighbors import KNeighborsClassifier\n",
    "from sklearn.model_selection import GridSearchCV\n",
    "\n",
    "from keras.models import Sequential\n",
    "from keras.layers import Dense, Dropout, BatchNormalization\n",
    "from keras import optimizers\n",
    "\n",
    "import tensorflow as tf\n",
    "\n",
    "import h5py"
   ]
  },
  {
   "cell_type": "code",
   "execution_count": 2,
   "metadata": {
    "colab": {
     "base_uri": "https://localhost:8080/",
     "height": 54
    },
    "colab_type": "code",
    "id": "AnJU8CcG3K1d",
    "outputId": "392eb2dd-4bee-4dee-f1c5-4a2d23e4b4d3"
   },
   "outputs": [
    {
     "name": "stdout",
     "output_type": "stream",
     "text": [
      "Drive already mounted at /content/drive; to attempt to forcibly remount, call drive.mount(\"/content/drive\", force_remount=True).\n"
     ]
    }
   ],
   "source": [
    "# mounting  the drive\n",
    "from google.colab import drive\n",
    "drive.mount('/content/drive')"
   ]
  },
  {
   "cell_type": "code",
   "execution_count": 3,
   "metadata": {
    "colab": {
     "base_uri": "https://localhost:8080/",
     "height": 34
    },
    "colab_type": "code",
    "id": "qNf2WOrG3ilh",
    "outputId": "f0b5fdf3-2574-42a8-9b1c-a11cd9473ae7"
   },
   "outputs": [
    {
     "data": {
      "text/plain": [
       "['X_test', 'X_train', 'X_val', 'y_test', 'y_train', 'y_val']"
      ]
     },
     "execution_count": 3,
     "metadata": {
      "tags": []
     },
     "output_type": "execute_result"
    }
   ],
   "source": [
    "file_path='/content/drive/My Drive/AI ML/Project 8/SVHN_single_grey1.h5';\n",
    "\n",
    "inp_data = h5py.File(file_path,'r')\n",
    "\n",
    "data=list(inp_data)\n",
    "data"
   ]
  },
  {
   "cell_type": "code",
   "execution_count": 4,
   "metadata": {
    "colab": {
     "base_uri": "https://localhost:8080/",
     "height": 34
    },
    "colab_type": "code",
    "id": "2-y_gtIoB5gj",
    "outputId": "5f116d63-0190-4b50-aaf5-a50238113bc3"
   },
   "outputs": [
    {
     "name": "stdout",
     "output_type": "stream",
     "text": [
      "<class 'h5py._hl.files.File'>\n"
     ]
    }
   ],
   "source": [
    "print(type(inp_data))"
   ]
  },
  {
   "cell_type": "code",
   "execution_count": 0,
   "metadata": {
    "colab": {},
    "colab_type": "code",
    "id": "HgJnnedX4Rbh"
   },
   "outputs": [],
   "source": [
    "# The text is converted to array\n",
    "X_test=np.array(inp_data['X_test'])\n",
    "y_test=np.array(inp_data['y_test'])\n",
    "\n",
    "X_train=np.array(inp_data['X_train'])\n",
    "y_train=np.array(inp_data['y_train'])\n",
    "\n",
    "X_val=np.array(inp_data['X_val'])\n",
    "y_val=np.array(inp_data['y_val'])"
   ]
  },
  {
   "cell_type": "code",
   "execution_count": 6,
   "metadata": {
    "colab": {
     "base_uri": "https://localhost:8080/",
     "height": 119
    },
    "colab_type": "code",
    "id": "c4Ezgo-GG2mS",
    "outputId": "2f0e788d-3d78-4a73-a6f0-d22478d39ff2"
   },
   "outputs": [
    {
     "name": "stdout",
     "output_type": "stream",
     "text": [
      "(18000, 32, 32)\n",
      "(18000,)\n",
      "(42000, 32, 32)\n",
      "(42000,)\n",
      "(60000, 32, 32)\n",
      "(60000,)\n"
     ]
    }
   ],
   "source": [
    "print(X_test.shape)\n",
    "print(y_test.shape)\n",
    "\n",
    "print(X_train.shape)\n",
    "print(y_train.shape)\n",
    "\n",
    "print(X_val.shape)\n",
    "print(y_val.shape)"
   ]
  },
  {
   "cell_type": "code",
   "execution_count": 7,
   "metadata": {
    "colab": {
     "base_uri": "https://localhost:8080/",
     "height": 283
    },
    "colab_type": "code",
    "id": "NkKZc9Lo4yfI",
    "outputId": "1c4b0388-de03-4f60-8afb-4595037ac730"
   },
   "outputs": [
    {
     "data": {
      "text/plain": [
       "<matplotlib.image.AxesImage at 0x7fc214669a58>"
      ]
     },
     "execution_count": 7,
     "metadata": {
      "tags": []
     },
     "output_type": "execute_result"
    },
    {
     "data": {
      "image/png": "[encoded data removed]",
      "text/plain": [
       "<Figure size 432x288 with 1 Axes>"
      ]
     },
     "metadata": {
      "tags": []
     },
     "output_type": "display_data"
    }
   ],
   "source": [
    "# Plotting the image \n",
    "\n",
    "plt.imshow(inp_data['X_train'][20])"
   ]
  },
  {
   "cell_type": "markdown",
   "metadata": {
    "colab_type": "text",
    "id": "4vc9ZD9ZELf7"
   },
   "source": [
    "Check whether all data has equal count of numbers"
   ]
  },
  {
   "cell_type": "code",
   "execution_count": 8,
   "metadata": {
    "colab": {
     "base_uri": "https://localhost:8080/",
     "height": 629
    },
    "colab_type": "code",
    "id": "IJBOQmb-DaBH",
    "outputId": "e8893d23-6421-4042-e1d8-b3ee5f07560c"
   },
   "outputs": [
    {
     "data": {
      "text/plain": [
       "<matplotlib.axes._subplots.AxesSubplot at 0x7fc2140c40f0>"
      ]
     },
     "execution_count": 8,
     "metadata": {
      "tags": []
     },
     "output_type": "execute_result"
    },
    {
     "data": {
      "image/png": "[encoded data removed]",
      "text/plain": [
       "<Figure size 1296x720 with 3 Axes>"
      ]
     },
     "metadata": {
      "tags": []
     },
     "output_type": "display_data"
    }
   ],
   "source": [
    "plt.figure(figsize=(18,10))\n",
    "plt.subplot(2,2,1)\n",
    "sns.countplot(np.array(inp_data['y_test']))\n",
    "plt.subplot(2,2,2)\n",
    "sns.countplot(np.array(inp_data['y_train']))\n",
    "plt.subplot(2,2,3)\n",
    "sns.countplot(np.array(inp_data['y_val']))"
   ]
  },
  {
   "cell_type": "markdown",
   "metadata": {
    "colab_type": "text",
    "id": "VhJartYrGdRe"
   },
   "source": [
    "From above figure, we see that the count of all numbers are same. This means there will no overtraining of a particular class"
   ]
  },
  {
   "cell_type": "code",
   "execution_count": 0,
   "metadata": {
    "colab": {},
    "colab_type": "code",
    "id": "QrkTRiDPFIVC"
   },
   "outputs": [],
   "source": [
    "#Converting the y values to categorical column\n",
    "\n",
    "y_train=tf.keras.utils.to_categorical(y_train,num_classes=10)\n",
    "y_test=tf.keras.utils.to_categorical(y_test,num_classes=10)\n",
    "y_val=tf.keras.utils.to_categorical(y_val,num_classes=10)\n"
   ]
  },
  {
   "cell_type": "code",
   "execution_count": 10,
   "metadata": {
    "colab": {
     "base_uri": "https://localhost:8080/",
     "height": 34
    },
    "colab_type": "code",
    "id": "Ce8om5eaIdv1",
    "outputId": "a4c7fa7d-6c1f-4eb1-b5b1-98c5619e3d60"
   },
   "outputs": [
    {
     "name": "stdout",
     "output_type": "stream",
     "text": [
      "(42000, 10) [0. 0. 0. 0. 1. 0. 0. 0. 0. 0.]\n"
     ]
    }
   ],
   "source": [
    "print(y_train.shape,y_train[4])"
   ]
  },
  {
   "cell_type": "code",
   "execution_count": 0,
   "metadata": {
    "colab": {},
    "colab_type": "code",
    "id": "XyDnOJWmJZtK"
   },
   "outputs": [],
   "source": [
    "# Reshaping input to 1D vector\n",
    "\n",
    "X_train=X_train.reshape(42000,1024)\n",
    "X_test=X_test.reshape(18000,1024)\n",
    "X_val=X_val.reshape(60000,1024)"
   ]
  },
  {
   "cell_type": "code",
   "execution_count": 13,
   "metadata": {
    "colab": {
     "base_uri": "https://localhost:8080/",
     "height": 119
    },
    "colab_type": "code",
    "id": "eF23wSOeJ1vJ",
    "outputId": "63a508b4-c8b5-43b6-df53-5e995ee60568"
   },
   "outputs": [
    {
     "name": "stdout",
     "output_type": "stream",
     "text": [
      "(42000, 1024)\n",
      "(18000, 1024)\n",
      "(60000, 1024)\n",
      "(42000, 10)\n",
      "(18000, 10)\n",
      "(60000, 10)\n"
     ]
    }
   ],
   "source": [
    "print(X_train.shape)\n",
    "print(X_test.shape)\n",
    "print(X_val.shape)\n",
    "print(y_train.shape)\n",
    "print(y_test.shape)\n",
    "print(y_val.shape)"
   ]
  },
  {
   "cell_type": "markdown",
   "metadata": {
    "colab_type": "text",
    "id": "7PYzyRFbL2Gu"
   },
   "source": [
    "KNN ALGORITHM:"
   ]
  },
  {
   "cell_type": "code",
   "execution_count": 0,
   "metadata": {
    "colab": {},
    "colab_type": "code",
    "id": "PgiNdbiBOMKv"
   },
   "outputs": [],
   "source": [
    "#RandomizedSearchCV - KNN\n",
    "#Implement Hyperparameter\n",
    "\n",
    "def hyper_params_knn(X,y):\n",
    "\n",
    "    # Create the random grid\n",
    "    random_grid = {'n_neighbors':[7,10],\n",
    "                  'leaf_size':[2],\n",
    "                  'weights':['distance'],\n",
    "                  'algorithm':['auto'],\n",
    "                  'n_jobs':[-1]}\n",
    "\n",
    "    pprint(random_grid)\n",
    "    return random_grid\n",
    "\n",
    "def randomizedsearch_knn(X_train,X_test,y_train,y_test):\n",
    "# Use the random grid to search for best hyperparameters\n",
    "# First create the base model to tune\n",
    "    knn = KNeighborsClassifier()\n",
    "# Random search of parameters, using 3 fold cross validation, \n",
    "# search across 100 different combinations, and use all available cores\n",
    "    rf_random = RandomizedSearchCV(estimator = knn, param_distributions = hyper_params_knn(X_train,X_test), n_iter = 100, cv = 3, verbose=2, random_state=42, n_jobs = -1)\n",
    "    rf_random.fit(X_train, y_train)\n",
    "    print(\"Best Hyper Parameters:\",rf_random.best_params_)\n",
    "    \n",
    "    pred=rf_random.predict(X_test)\n",
    "    score=rf_random.score(X_test,y_test)\n",
    "    print(\"The model prediction is \" + str(score*100) + \"%\")\n",
    "    print(\"The confusion matrix is \")\n",
    "    print(metrics.confusion_matrix(y_test, pred))\n",
    "    print(\"the Classification report is\")\n",
    "    print(metrics.classification_report(y_test, pred))"
   ]
  },
  {
   "cell_type": "code",
   "execution_count": 26,
   "metadata": {
    "colab": {
     "base_uri": "https://localhost:8080/",
     "height": 523
    },
    "colab_type": "code",
    "id": "BWTe33c_KGFJ",
    "outputId": "589b07fb-a846-49e4-f355-458cf22596a5"
   },
   "outputs": [
    {
     "name": "stdout",
     "output_type": "stream",
     "text": [
      "{'algorithm': ['auto'],\n",
      " 'leaf_size': [2],\n",
      " 'n_jobs': [-1],\n",
      " 'n_neighbors': [7, 10],\n",
      " 'weights': ['distance']}\n",
      "Fitting 3 folds for each of 2 candidates, totalling 6 fits\n"
     ]
    },
    {
     "name": "stderr",
     "output_type": "stream",
     "text": [
      "/usr/local/lib/python3.6/dist-packages/sklearn/model_selection/_search.py:266: UserWarning: The total space of parameters 2 is smaller than n_iter=100. Running 2 iterations. For exhaustive searches, use GridSearchCV.\n",
      "  % (grid_size, self.n_iter, grid_size), UserWarning)\n",
      "[Parallel(n_jobs=-1)]: Using backend LokyBackend with 2 concurrent workers.\n",
      "[Parallel(n_jobs=-1)]: Done   6 out of   6 | elapsed: 12.1min finished\n"
     ]
    },
    {
     "name": "stdout",
     "output_type": "stream",
     "text": [
      "Best Hyper Parameters: {'weights': 'distance', 'n_neighbors': 7, 'n_jobs': -1, 'leaf_size': 2, 'algorithm': 'auto'}\n",
      "The model prediction is 32.87328732873288%\n",
      "The confusion matrix is \n"
     ]
    },
    {
     "ename": "NameError",
     "evalue": "ignored",
     "output_type": "error",
     "traceback": [
      "\u001b[0;31m---------------------------------------------------------------------------\u001b[0m",
      "\u001b[0;31mNameError\u001b[0m                                 Traceback (most recent call last)",
      "\u001b[0;32m<ipython-input-26-f79e3188386a>\u001b[0m in \u001b[0;36m<module>\u001b[0;34m()\u001b[0m\n\u001b[0;32m----> 1\u001b[0;31m \u001b[0mrandomizedsearch_knn\u001b[0m\u001b[0;34m(\u001b[0m\u001b[0mX_train\u001b[0m\u001b[0;34m[\u001b[0m\u001b[0;36m1\u001b[0m\u001b[0;34m:\u001b[0m\u001b[0;36m10000\u001b[0m\u001b[0;34m]\u001b[0m\u001b[0;34m,\u001b[0m\u001b[0mX_val\u001b[0m\u001b[0;34m[\u001b[0m\u001b[0;36m1\u001b[0m\u001b[0;34m:\u001b[0m\u001b[0;36m10000\u001b[0m\u001b[0;34m]\u001b[0m\u001b[0;34m,\u001b[0m \u001b[0my_train\u001b[0m\u001b[0;34m[\u001b[0m\u001b[0;36m1\u001b[0m\u001b[0;34m:\u001b[0m\u001b[0;36m10000\u001b[0m\u001b[0;34m]\u001b[0m\u001b[0;34m,\u001b[0m \u001b[0my_val\u001b[0m\u001b[0;34m[\u001b[0m\u001b[0;36m1\u001b[0m\u001b[0;34m:\u001b[0m\u001b[0;36m10000\u001b[0m\u001b[0;34m]\u001b[0m\u001b[0;34m)\u001b[0m\u001b[0;34m\u001b[0m\u001b[0;34m\u001b[0m\u001b[0m\n\u001b[0m",
      "\u001b[0;32m<ipython-input-25-6023def811fa>\u001b[0m in \u001b[0;36mrandomizedsearch_knn\u001b[0;34m(X_train, X_test, y_train, y_test)\u001b[0m\n\u001b[1;32m     26\u001b[0m     \u001b[0mprint\u001b[0m\u001b[0;34m(\u001b[0m\u001b[0;34m\"The model prediction is \"\u001b[0m \u001b[0;34m+\u001b[0m \u001b[0mstr\u001b[0m\u001b[0;34m(\u001b[0m\u001b[0mscore\u001b[0m\u001b[0;34m*\u001b[0m\u001b[0;36m100\u001b[0m\u001b[0;34m)\u001b[0m \u001b[0;34m+\u001b[0m \u001b[0;34m\"%\"\u001b[0m\u001b[0;34m)\u001b[0m\u001b[0;34m\u001b[0m\u001b[0;34m\u001b[0m\u001b[0m\n\u001b[1;32m     27\u001b[0m     \u001b[0mprint\u001b[0m\u001b[0;34m(\u001b[0m\u001b[0;34m\"The confusion matrix is \"\u001b[0m\u001b[0;34m)\u001b[0m\u001b[0;34m\u001b[0m\u001b[0;34m\u001b[0m\u001b[0m\n\u001b[0;32m---> 28\u001b[0;31m     \u001b[0mprint\u001b[0m\u001b[0;34m(\u001b[0m\u001b[0mmetrics\u001b[0m\u001b[0;34m.\u001b[0m\u001b[0mconfusion_matrix\u001b[0m\u001b[0;34m(\u001b[0m\u001b[0my_test\u001b[0m\u001b[0;34m,\u001b[0m \u001b[0mpred\u001b[0m\u001b[0;34m)\u001b[0m\u001b[0;34m)\u001b[0m\u001b[0;34m\u001b[0m\u001b[0;34m\u001b[0m\u001b[0m\n\u001b[0m\u001b[1;32m     29\u001b[0m     \u001b[0mprint\u001b[0m\u001b[0;34m(\u001b[0m\u001b[0;34m\"the Classification report is\"\u001b[0m\u001b[0;34m)\u001b[0m\u001b[0;34m\u001b[0m\u001b[0;34m\u001b[0m\u001b[0m\n\u001b[1;32m     30\u001b[0m     \u001b[0mprint\u001b[0m\u001b[0;34m(\u001b[0m\u001b[0mmetrics\u001b[0m\u001b[0;34m.\u001b[0m\u001b[0mclassification_report\u001b[0m\u001b[0;34m(\u001b[0m\u001b[0my_test\u001b[0m\u001b[0;34m,\u001b[0m \u001b[0mpred\u001b[0m\u001b[0;34m)\u001b[0m\u001b[0;34m)\u001b[0m\u001b[0;34m\u001b[0m\u001b[0;34m\u001b[0m\u001b[0m\n",
      "\u001b[0;31mNameError\u001b[0m: name 'metrics' is not defined"
     ]
    }
   ],
   "source": [
    "# Since the X_train and X_val count is more, we take only 10k values.\n",
    "randomizedsearch_knn(X_train[1:10000],X_val[1:10000], y_train[1:10000], y_val[1:10000])"
   ]
  },
  {
   "cell_type": "markdown",
   "metadata": {
    "colab_type": "text",
    "id": "E2Xk9KhoS4aN"
   },
   "source": [
    "NEURAL NETWORKS:"
   ]
  },
  {
   "cell_type": "markdown",
   "metadata": {
    "colab_type": "text",
    "id": "MZ5cbJ4NLza-"
   },
   "source": [
    "Lets create a neural networks with One input layer which have 1024(image pixel size) and one hidden layer with 250 neurons. Thus the weight matrix is 250*1024. Since we can have 10 different outputs,the output layer will have 10 neurons"
   ]
  },
  {
   "cell_type": "markdown",
   "metadata": {
    "colab_type": "text",
    "id": "aqxXt0NGWTeh"
   },
   "source": [
    "Model Creation:"
   ]
  },
  {
   "cell_type": "code",
   "execution_count": 31,
   "metadata": {
    "colab": {
     "base_uri": "https://localhost:8080/",
     "height": 1000
    },
    "colab_type": "code",
    "id": "lOPwR-BZUqX7",
    "outputId": "e807c4dc-c59f-4825-f8d1-61bae33d94e2"
   },
   "outputs": [
    {
     "name": "stdout",
     "output_type": "stream",
     "text": [
      "Model: \"sequential_3\"\n",
      "_________________________________________________________________\n",
      "Layer (type)                 Output Shape              Param #   \n",
      "=================================================================\n",
      "dense_3 (Dense)              (None, 250)               256250    \n",
      "_________________________________________________________________\n",
      "batch_normalization_2 (Batch (None, 250)               1000      \n",
      "_________________________________________________________________\n",
      "dropout_2 (Dropout)          (None, 250)               0         \n",
      "_________________________________________________________________\n",
      "dense_4 (Dense)              (None, 10)                2510      \n",
      "=================================================================\n",
      "Total params: 259,760\n",
      "Trainable params: 259,260\n",
      "Non-trainable params: 500\n",
      "_________________________________________________________________\n",
      "WARNING:tensorflow:From /usr/local/lib/python3.6/dist-packages/keras/backend/tensorflow_backend.py:1033: The name tf.assign_add is deprecated. Please use tf.compat.v1.assign_add instead.\n",
      "\n",
      "WARNING:tensorflow:From /usr/local/lib/python3.6/dist-packages/keras/backend/tensorflow_backend.py:1020: The name tf.assign is deprecated. Please use tf.compat.v1.assign instead.\n",
      "\n",
      "WARNING:tensorflow:From /usr/local/lib/python3.6/dist-packages/keras/backend/tensorflow_backend.py:3005: The name tf.Session is deprecated. Please use tf.compat.v1.Session instead.\n",
      "\n",
      "Train on 42000 samples, validate on 60000 samples\n",
      "Epoch 1/10\n",
      "WARNING:tensorflow:From /usr/local/lib/python3.6/dist-packages/keras/backend/tensorflow_backend.py:190: The name tf.get_default_session is deprecated. Please use tf.compat.v1.get_default_session instead.\n",
      "\n",
      "WARNING:tensorflow:From /usr/local/lib/python3.6/dist-packages/keras/backend/tensorflow_backend.py:197: The name tf.ConfigProto is deprecated. Please use tf.compat.v1.ConfigProto instead.\n",
      "\n",
      "WARNING:tensorflow:From /usr/local/lib/python3.6/dist-packages/keras/backend/tensorflow_backend.py:207: The name tf.global_variables is deprecated. Please use tf.compat.v1.global_variables instead.\n",
      "\n",
      "WARNING:tensorflow:From /usr/local/lib/python3.6/dist-packages/keras/backend/tensorflow_backend.py:216: The name tf.is_variable_initialized is deprecated. Please use tf.compat.v1.is_variable_initialized instead.\n",
      "\n",
      "WARNING:tensorflow:From /usr/local/lib/python3.6/dist-packages/keras/backend/tensorflow_backend.py:223: The name tf.variables_initializer is deprecated. Please use tf.compat.v1.variables_initializer instead.\n",
      "\n",
      "42000/42000 [==============================] - 6s 140us/step - loss: 0.4440 - acc: 0.8372 - val_loss: 0.7772 - val_acc: 0.6021\n",
      "Epoch 2/10\n",
      "42000/42000 [==============================] - 1s 18us/step - loss: 0.3276 - acc: 0.8996 - val_loss: 0.3172 - val_acc: 0.9000\n",
      "Epoch 3/10\n",
      "42000/42000 [==============================] - 1s 19us/step - loss: 0.3179 - acc: 0.9008 - val_loss: 0.3116 - val_acc: 0.9001\n",
      "Epoch 4/10\n",
      "42000/42000 [==============================] - 1s 19us/step - loss: 0.3142 - acc: 0.9013 - val_loss: 0.3027 - val_acc: 0.9015\n",
      "Epoch 5/10\n",
      "42000/42000 [==============================] - 1s 19us/step - loss: 0.3117 - acc: 0.9015 - val_loss: 0.3021 - val_acc: 0.9011\n",
      "Epoch 6/10\n",
      "42000/42000 [==============================] - 1s 19us/step - loss: 0.3075 - acc: 0.9016 - val_loss: 0.3070 - val_acc: 0.9024\n",
      "Epoch 7/10\n",
      "42000/42000 [==============================] - 1s 18us/step - loss: 0.2973 - acc: 0.9027 - val_loss: 0.3311 - val_acc: 0.9051\n",
      "Epoch 8/10\n",
      "42000/42000 [==============================] - 1s 18us/step - loss: 0.2923 - acc: 0.9036 - val_loss: 0.3231 - val_acc: 0.8998\n",
      "Epoch 9/10\n",
      "42000/42000 [==============================] - 1s 18us/step - loss: 0.2860 - acc: 0.9044 - val_loss: 0.3261 - val_acc: 0.8911\n",
      "Epoch 10/10\n",
      "42000/42000 [==============================] - 1s 18us/step - loss: 0.2815 - acc: 0.9048 - val_loss: 0.2913 - val_acc: 0.9083\n",
      "Accuracy\n",
      "18000/18000 [==============================] - 1s 61us/step\n",
      "0.9083610826068454\n",
      "[[ 893    1    3   37   10    8  859    0    0    3]\n",
      " [ 128  149   15  549  214   65  698    9    1    0]\n",
      " [ 298    0  818  211   26   11  414   19    5    1]\n",
      " [ 157    0   18  797   18  275  450    0    3    1]\n",
      " [  78    2    8   55  961    4  699    2    1    2]\n",
      " [ 117    0    6  264   12  451  912    3    3    0]\n",
      " [ 109    0    3   50   36   11 1622    0    1    0]\n",
      " [ 433    3   95  270    6   18  400  580    1    2]\n",
      " [ 123    2    6  105   20   24 1492    0   37    3]\n",
      " [ 557    0   12  135   20   38  876    4   16  146]]\n",
      "              precision    recall  f1-score   support\n",
      "\n",
      "           0       0.49      0.31      0.38      2893\n",
      "           1       0.08      0.95      0.15       157\n",
      "           2       0.45      0.83      0.59       984\n",
      "           3       0.46      0.32      0.38      2473\n",
      "           4       0.53      0.73      0.61      1323\n",
      "           5       0.26      0.50      0.34       905\n",
      "           6       0.89      0.19      0.32      8422\n",
      "           7       0.32      0.94      0.48       617\n",
      "           8       0.02      0.54      0.04        68\n",
      "           9       0.08      0.92      0.15       158\n",
      "\n",
      "    accuracy                           0.36     18000\n",
      "   macro avg       0.36      0.62      0.34     18000\n",
      "weighted avg       0.65      0.36      0.37     18000\n",
      "\n"
     ]
    }
   ],
   "source": [
    "neural_model=Sequential()\n",
    "\n",
    "neural_model.add(Dense(250, input_shape = (1024,), activation = 'relu'))\n",
    "neural_model.add(BatchNormalization())\n",
    "neural_model.add(Dropout(0.5))\n",
    "neural_model.add(Dense(10, activation = 'sigmoid'))\n",
    "\n",
    "obj = optimizers.Adam(lr = 0.01 , beta_1=0.9 , decay =0)\n",
    "neural_model.compile(optimizer = obj, loss = 'binary_crossentropy', metrics=['accuracy'])\n",
    "neural_model.summary()\n",
    "\n",
    "neural_model.fit(X_train, y_train, batch_size = 1000, epochs = 10, verbose = 1,validation_data=(X_val, y_val))\n",
    "Y_pred_cls = neural_model.predict_classes(X_test, batch_size=200, verbose=0)\n",
    "\n",
    "print('Accuracy') \n",
    "print( str(neural_model.evaluate(X_test,y_test)[1]) )\n",
    "label=np.argmax(y_test.T, axis=0)\n",
    "print(confusion_matrix(label, Y_pred_cls))\n",
    "print(classification_report(Y_pred_cls, label))  "
   ]
  },
  {
   "cell_type": "markdown",
   "metadata": {
    "colab_type": "text",
    "id": "o0rc2ErQWds4"
   },
   "source": [
    "Model Compile:"
   ]
  },
  {
   "cell_type": "markdown",
   "metadata": {
    "colab_type": "text",
    "id": "SKZ0qsD7XTLm"
   },
   "source": [
    "Lets create another neural networks with One input layer which have 1024(image pixel size) and one hidden layer with 250 neurons,Thus the weight matrix is 250 * 1024 and another hidden layer with 125 neurons. Thus the weight matrix is 125 * 250. Since we can have 10 different outputs,the output layer will have 10 neurons"
   ]
  },
  {
   "cell_type": "code",
   "execution_count": 32,
   "metadata": {
    "colab": {
     "base_uri": "https://localhost:8080/",
     "height": 1000
    },
    "colab_type": "code",
    "id": "zRqifWekWguP",
    "outputId": "7bd11b3b-4240-4976-e493-bb1ed93b263b"
   },
   "outputs": [
    {
     "name": "stdout",
     "output_type": "stream",
     "text": [
      "Model: \"sequential_4\"\n",
      "_________________________________________________________________\n",
      "Layer (type)                 Output Shape              Param #   \n",
      "=================================================================\n",
      "dense_5 (Dense)              (None, 250)               256250    \n",
      "_________________________________________________________________\n",
      "batch_normalization_3 (Batch (None, 250)               1000      \n",
      "_________________________________________________________________\n",
      "dropout_3 (Dropout)          (None, 250)               0         \n",
      "_________________________________________________________________\n",
      "dense_6 (Dense)              (None, 125)               31375     \n",
      "_________________________________________________________________\n",
      "batch_normalization_4 (Batch (None, 125)               500       \n",
      "_________________________________________________________________\n",
      "dropout_4 (Dropout)          (None, 125)               0         \n",
      "_________________________________________________________________\n",
      "dense_7 (Dense)              (None, 10)                1260      \n",
      "=================================================================\n",
      "Total params: 290,385\n",
      "Trainable params: 289,635\n",
      "Non-trainable params: 750\n",
      "_________________________________________________________________\n",
      "Train on 42000 samples, validate on 60000 samples\n",
      "Epoch 1/10\n",
      "42000/42000 [==============================] - 2s 45us/step - loss: 0.4901 - acc: 0.8065 - val_loss: 0.3289 - val_acc: 0.9000\n",
      "Epoch 2/10\n",
      "42000/42000 [==============================] - 1s 23us/step - loss: 0.3389 - acc: 0.8984 - val_loss: 0.3247 - val_acc: 0.9000\n",
      "Epoch 3/10\n",
      "42000/42000 [==============================] - 1s 24us/step - loss: 0.3271 - acc: 0.8994 - val_loss: 0.3140 - val_acc: 0.9000\n",
      "Epoch 4/10\n",
      "42000/42000 [==============================] - 1s 23us/step - loss: 0.3074 - acc: 0.9001 - val_loss: 0.2976 - val_acc: 0.9017\n",
      "Epoch 5/10\n",
      "42000/42000 [==============================] - 1s 24us/step - loss: 0.2918 - acc: 0.9016 - val_loss: 0.3071 - val_acc: 0.9022\n",
      "Epoch 6/10\n",
      "42000/42000 [==============================] - 1s 24us/step - loss: 0.2782 - acc: 0.9032 - val_loss: 0.2681 - val_acc: 0.9054\n",
      "Epoch 7/10\n",
      "42000/42000 [==============================] - 1s 24us/step - loss: 0.2643 - acc: 0.9059 - val_loss: 0.3037 - val_acc: 0.9027\n",
      "Epoch 8/10\n",
      "42000/42000 [==============================] - 1s 24us/step - loss: 0.2508 - acc: 0.9087 - val_loss: 0.2522 - val_acc: 0.9125\n",
      "Epoch 9/10\n",
      "42000/42000 [==============================] - 1s 24us/step - loss: 0.2405 - acc: 0.9125 - val_loss: 0.2207 - val_acc: 0.9205\n",
      "Epoch 10/10\n",
      "42000/42000 [==============================] - 1s 24us/step - loss: 0.2325 - acc: 0.9164 - val_loss: 0.2297 - val_acc: 0.9212\n",
      "Accuracy\n",
      "18000/18000 [==============================] - 1s 73us/step\n",
      "0.9215166373782687\n",
      "[[ 742   70   87   17   90    4  313   29  267  195]\n",
      " [  59 1200   15   83  117   17   40  106  109   82]\n",
      " [  36  119 1029   94   86   12   47  181   80  119]\n",
      " [  35  215   79  895   51   72   52   54  197   69]\n",
      " [  40   84   26   25 1404    8   93   10   71   51]\n",
      " [  32  132   24  139   56  673  211   25  356  120]\n",
      " [  89   57   13   22  162   21 1256   13  145   54]\n",
      " [  49  276  176   41   49    7   64 1035   65   46]\n",
      " [  68  106   19   54  105   36  284   18  931  191]\n",
      " [  77  127   43   75   76   20   91   31  244 1020]]\n",
      "              precision    recall  f1-score   support\n",
      "\n",
      "           0       0.41      0.60      0.49      1227\n",
      "           1       0.66      0.50      0.57      2386\n",
      "           2       0.57      0.68      0.62      1511\n",
      "           3       0.52      0.62      0.57      1445\n",
      "           4       0.77      0.64      0.70      2196\n",
      "           5       0.38      0.77      0.51       870\n",
      "           6       0.69      0.51      0.59      2451\n",
      "           7       0.57      0.69      0.63      1502\n",
      "           8       0.51      0.38      0.44      2465\n",
      "           9       0.57      0.52      0.54      1947\n",
      "\n",
      "    accuracy                           0.57     18000\n",
      "   macro avg       0.56      0.59      0.56     18000\n",
      "weighted avg       0.59      0.57      0.57     18000\n",
      "\n"
     ]
    }
   ],
   "source": [
    "model = Sequential()\n",
    "\n",
    "model.add(Dense(250, input_shape = (1024,), activation = 'relu'))\n",
    "model.add(BatchNormalization())\n",
    "model.add(Dropout(0.5))\n",
    "model.add(Dense(125, input_shape = (250,), activation = 'relu'))\n",
    "model.add(BatchNormalization())\n",
    "model.add(Dropout(0.5))\n",
    "model.add(Dense(10, activation = 'sigmoid'))\n",
    "\n",
    "sgd = optimizers.Adam(lr = 0.01 , beta_1=0.9 , decay =0)\n",
    "model.compile(optimizer = sgd, loss = 'binary_crossentropy', metrics=['accuracy'])\n",
    "model.summary()\n",
    "\n",
    "model.fit(X_train, y_train, batch_size = 1000, epochs = 10, verbose = 1,validation_data=(X_val, y_val))\n",
    "Y_pred_cls = model.predict_classes(X_test, batch_size=200, verbose=0)\n",
    "\n",
    "print('Accuracy') \n",
    "print( str(model.evaluate(X_test,y_test)[1]) )\n",
    "\n",
    "label=np.argmax(y_test.T, axis=0)\n",
    "print(confusion_matrix(label, Y_pred_cls))\n",
    "print(classification_report(Y_pred_cls, label))    \n"
   ]
  },
  {
   "cell_type": "markdown",
   "metadata": {
    "colab_type": "text",
    "id": "uVIfPdNkX5rM"
   },
   "source": [
    "Lets create another neural networks with One input layer which have 1024(image pixel size) and one hidden layer with 250 neurons,Thus the weight matrix is 250 * 1024 and another hidden layer with 250 neurons. Thus the weight matrix is 250 * 250. Since we can have 10 different outputs,the output layer will have 10 neurons "
   ]
  },
  {
   "cell_type": "code",
   "execution_count": 33,
   "metadata": {
    "colab": {
     "base_uri": "https://localhost:8080/",
     "height": 1000
    },
    "colab_type": "code",
    "id": "Dggn9nwhYpdf",
    "outputId": "7873bd51-c9cf-48fe-c6fa-45c44f9cf16f"
   },
   "outputs": [
    {
     "name": "stdout",
     "output_type": "stream",
     "text": [
      "Model: \"sequential_5\"\n",
      "_________________________________________________________________\n",
      "Layer (type)                 Output Shape              Param #   \n",
      "=================================================================\n",
      "dense_8 (Dense)              (None, 250)               256250    \n",
      "_________________________________________________________________\n",
      "batch_normalization_5 (Batch (None, 250)               1000      \n",
      "_________________________________________________________________\n",
      "dropout_5 (Dropout)          (None, 250)               0         \n",
      "_________________________________________________________________\n",
      "dense_9 (Dense)              (None, 250)               62750     \n",
      "_________________________________________________________________\n",
      "batch_normalization_6 (Batch (None, 250)               1000      \n",
      "_________________________________________________________________\n",
      "dropout_6 (Dropout)          (None, 250)               0         \n",
      "_________________________________________________________________\n",
      "dense_10 (Dense)             (None, 125)               31375     \n",
      "_________________________________________________________________\n",
      "batch_normalization_7 (Batch (None, 125)               500       \n",
      "_________________________________________________________________\n",
      "dropout_7 (Dropout)          (None, 125)               0         \n",
      "_________________________________________________________________\n",
      "dense_11 (Dense)             (None, 10)                1260      \n",
      "=================================================================\n",
      "Total params: 354,135\n",
      "Trainable params: 352,885\n",
      "Non-trainable params: 1,250\n",
      "_________________________________________________________________\n",
      "Train on 42000 samples, validate on 60000 samples\n",
      "Epoch 1/50\n",
      "42000/42000 [==============================] - 3s 63us/step - loss: 0.4873 - acc: 0.8110 - val_loss: 0.3711 - val_acc: 0.9000\n",
      "Epoch 2/50\n",
      "42000/42000 [==============================] - 1s 28us/step - loss: 0.3403 - acc: 0.8979 - val_loss: 0.3295 - val_acc: 0.9000\n",
      "Epoch 3/50\n",
      "42000/42000 [==============================] - 1s 27us/step - loss: 0.3336 - acc: 0.8992 - val_loss: 0.3262 - val_acc: 0.9000\n",
      "Epoch 4/50\n",
      "42000/42000 [==============================] - 1s 27us/step - loss: 0.3312 - acc: 0.8996 - val_loss: 0.3258 - val_acc: 0.9000\n",
      "Epoch 5/50\n",
      "42000/42000 [==============================] - 1s 27us/step - loss: 0.3289 - acc: 0.8998 - val_loss: 0.3244 - val_acc: 0.9000\n",
      "Epoch 6/50\n",
      "42000/42000 [==============================] - 1s 28us/step - loss: 0.3238 - acc: 0.8997 - val_loss: 0.3151 - val_acc: 0.8997\n",
      "Epoch 7/50\n",
      "42000/42000 [==============================] - 1s 27us/step - loss: 0.3139 - acc: 0.8995 - val_loss: 0.3019 - val_acc: 0.8996\n",
      "Epoch 8/50\n",
      "42000/42000 [==============================] - 1s 27us/step - loss: 0.3033 - acc: 0.8994 - val_loss: 0.2965 - val_acc: 0.9001\n",
      "Epoch 9/50\n",
      "42000/42000 [==============================] - 1s 27us/step - loss: 0.2966 - acc: 0.8998 - val_loss: 0.2997 - val_acc: 0.9006\n",
      "Epoch 10/50\n",
      "42000/42000 [==============================] - 1s 28us/step - loss: 0.2881 - acc: 0.9004 - val_loss: 0.2890 - val_acc: 0.9015\n",
      "Epoch 11/50\n",
      "42000/42000 [==============================] - 1s 28us/step - loss: 0.2722 - acc: 0.9023 - val_loss: 0.2571 - val_acc: 0.9061\n",
      "Epoch 12/50\n",
      "42000/42000 [==============================] - 1s 27us/step - loss: 0.2596 - acc: 0.9056 - val_loss: 0.2557 - val_acc: 0.9062\n",
      "Epoch 13/50\n",
      "42000/42000 [==============================] - 1s 27us/step - loss: 0.2495 - acc: 0.9080 - val_loss: 0.2439 - val_acc: 0.9106\n",
      "Epoch 14/50\n",
      "42000/42000 [==============================] - 1s 27us/step - loss: 0.2387 - acc: 0.9112 - val_loss: 0.2039 - val_acc: 0.9219\n",
      "Epoch 15/50\n",
      "42000/42000 [==============================] - 1s 27us/step - loss: 0.2294 - acc: 0.9152 - val_loss: 0.2257 - val_acc: 0.9179\n",
      "Epoch 16/50\n",
      "42000/42000 [==============================] - 1s 28us/step - loss: 0.2212 - acc: 0.9195 - val_loss: 0.2042 - val_acc: 0.9249\n",
      "Epoch 17/50\n",
      "42000/42000 [==============================] - 1s 28us/step - loss: 0.2144 - acc: 0.9229 - val_loss: 0.1792 - val_acc: 0.9353\n",
      "Epoch 18/50\n",
      "42000/42000 [==============================] - 1s 28us/step - loss: 0.2072 - acc: 0.9260 - val_loss: 0.1739 - val_acc: 0.9394\n",
      "Epoch 19/50\n",
      "42000/42000 [==============================] - 1s 27us/step - loss: 0.2014 - acc: 0.9284 - val_loss: 0.1655 - val_acc: 0.9426\n",
      "Epoch 20/50\n",
      "42000/42000 [==============================] - 1s 28us/step - loss: 0.1980 - acc: 0.9306 - val_loss: 0.1781 - val_acc: 0.9377\n",
      "Epoch 21/50\n",
      "42000/42000 [==============================] - 1s 27us/step - loss: 0.1951 - acc: 0.9320 - val_loss: 0.1625 - val_acc: 0.9425\n",
      "Epoch 22/50\n",
      "42000/42000 [==============================] - 1s 28us/step - loss: 0.1901 - acc: 0.9340 - val_loss: 0.1638 - val_acc: 0.9423\n",
      "Epoch 23/50\n",
      "42000/42000 [==============================] - 1s 27us/step - loss: 0.1881 - acc: 0.9347 - val_loss: 0.1484 - val_acc: 0.9483\n",
      "Epoch 24/50\n",
      "42000/42000 [==============================] - 1s 28us/step - loss: 0.1854 - acc: 0.9357 - val_loss: 0.1559 - val_acc: 0.9452\n",
      "Epoch 25/50\n",
      "42000/42000 [==============================] - 1s 28us/step - loss: 0.1841 - acc: 0.9367 - val_loss: 0.1469 - val_acc: 0.9487\n",
      "Epoch 26/50\n",
      "42000/42000 [==============================] - 1s 29us/step - loss: 0.1818 - acc: 0.9373 - val_loss: 0.1411 - val_acc: 0.9508\n",
      "Epoch 27/50\n",
      "42000/42000 [==============================] - 1s 28us/step - loss: 0.1804 - acc: 0.9381 - val_loss: 0.1535 - val_acc: 0.9458\n",
      "Epoch 28/50\n",
      "42000/42000 [==============================] - 1s 28us/step - loss: 0.1778 - acc: 0.9390 - val_loss: 0.1549 - val_acc: 0.9453\n",
      "Epoch 29/50\n",
      "42000/42000 [==============================] - 1s 27us/step - loss: 0.1767 - acc: 0.9396 - val_loss: 0.1441 - val_acc: 0.9489\n",
      "Epoch 30/50\n",
      "42000/42000 [==============================] - 1s 27us/step - loss: 0.1774 - acc: 0.9387 - val_loss: 0.1473 - val_acc: 0.9478\n",
      "Epoch 31/50\n",
      "42000/42000 [==============================] - 1s 27us/step - loss: 0.1748 - acc: 0.9404 - val_loss: 0.1405 - val_acc: 0.9504\n",
      "Epoch 32/50\n",
      "42000/42000 [==============================] - 1s 27us/step - loss: 0.1753 - acc: 0.9398 - val_loss: 0.1468 - val_acc: 0.9476\n",
      "Epoch 33/50\n",
      "42000/42000 [==============================] - 1s 27us/step - loss: 0.1733 - acc: 0.9406 - val_loss: 0.1466 - val_acc: 0.9482\n",
      "Epoch 34/50\n",
      "42000/42000 [==============================] - 1s 27us/step - loss: 0.1713 - acc: 0.9414 - val_loss: 0.1367 - val_acc: 0.9525\n",
      "Epoch 35/50\n",
      "42000/42000 [==============================] - 1s 27us/step - loss: 0.1705 - acc: 0.9418 - val_loss: 0.1376 - val_acc: 0.9516\n",
      "Epoch 36/50\n",
      "42000/42000 [==============================] - 1s 27us/step - loss: 0.1707 - acc: 0.9418 - val_loss: 0.1319 - val_acc: 0.9540\n",
      "Epoch 37/50\n",
      "42000/42000 [==============================] - 1s 27us/step - loss: 0.1715 - acc: 0.9415 - val_loss: 0.1442 - val_acc: 0.9491\n",
      "Epoch 38/50\n",
      "42000/42000 [==============================] - 1s 26us/step - loss: 0.1695 - acc: 0.9421 - val_loss: 0.1348 - val_acc: 0.9525\n",
      "Epoch 39/50\n",
      "42000/42000 [==============================] - 1s 26us/step - loss: 0.1689 - acc: 0.9419 - val_loss: 0.1353 - val_acc: 0.9523\n",
      "Epoch 40/50\n",
      "42000/42000 [==============================] - 1s 26us/step - loss: 0.1674 - acc: 0.9429 - val_loss: 0.1266 - val_acc: 0.9560\n",
      "Epoch 41/50\n",
      "42000/42000 [==============================] - 1s 28us/step - loss: 0.1665 - acc: 0.9428 - val_loss: 0.1287 - val_acc: 0.9553\n",
      "Epoch 42/50\n",
      "42000/42000 [==============================] - 1s 26us/step - loss: 0.1660 - acc: 0.9430 - val_loss: 0.1314 - val_acc: 0.9539\n",
      "Epoch 43/50\n",
      "42000/42000 [==============================] - 1s 27us/step - loss: 0.1653 - acc: 0.9434 - val_loss: 0.1336 - val_acc: 0.9526\n",
      "Epoch 44/50\n",
      "42000/42000 [==============================] - 1s 26us/step - loss: 0.1646 - acc: 0.9439 - val_loss: 0.1339 - val_acc: 0.9532\n",
      "Epoch 45/50\n",
      "42000/42000 [==============================] - 1s 27us/step - loss: 0.1654 - acc: 0.9434 - val_loss: 0.1348 - val_acc: 0.9527\n",
      "Epoch 46/50\n",
      "42000/42000 [==============================] - 1s 27us/step - loss: 0.1643 - acc: 0.9439 - val_loss: 0.1339 - val_acc: 0.9533\n",
      "Epoch 47/50\n",
      "42000/42000 [==============================] - 1s 27us/step - loss: 0.1623 - acc: 0.9447 - val_loss: 0.1227 - val_acc: 0.9572\n",
      "Epoch 48/50\n",
      "42000/42000 [==============================] - 1s 27us/step - loss: 0.1626 - acc: 0.9443 - val_loss: 0.1266 - val_acc: 0.9555\n",
      "Epoch 49/50\n",
      "42000/42000 [==============================] - 1s 27us/step - loss: 0.1621 - acc: 0.9445 - val_loss: 0.1279 - val_acc: 0.9550\n",
      "Epoch 50/50\n",
      "42000/42000 [==============================] - 1s 27us/step - loss: 0.1610 - acc: 0.9449 - val_loss: 0.1200 - val_acc: 0.9581\n",
      "Accuracy\n",
      "18000/18000 [==============================] - 1s 76us/step\n",
      "0.9568833316167196\n",
      "[[1438   95   22   23   68    4   45   47   16   56]\n",
      " [  72 1540   19   33   59    9   13   57   10   16]\n",
      " [  23   87 1350   33   48   21   16  150   27   48]\n",
      " [  39  150   53 1182   32  110   16   76   36   25]\n",
      " [  46   88   27   20 1509   16   37   17   15   37]\n",
      " [  42   87   28  114   45 1267   74   28   39   44]\n",
      " [  78   71   12   32  117   60 1339   23   82   18]\n",
      " [  31  109   61   22   23   14   20 1490    8   30]\n",
      " [  56  130   37   46   83   48  103   26 1190   93]\n",
      " [ 105  112   27   49   57   52   21   54   44 1283]]\n",
      "              precision    recall  f1-score   support\n",
      "\n",
      "           0       0.79      0.75      0.77      1930\n",
      "           1       0.84      0.62      0.72      2469\n",
      "           2       0.75      0.83      0.79      1636\n",
      "           3       0.69      0.76      0.72      1554\n",
      "           4       0.83      0.74      0.78      2041\n",
      "           5       0.72      0.79      0.75      1601\n",
      "           6       0.73      0.80      0.76      1684\n",
      "           7       0.82      0.76      0.79      1968\n",
      "           8       0.66      0.81      0.73      1467\n",
      "           9       0.71      0.78      0.74      1650\n",
      "\n",
      "    accuracy                           0.75     18000\n",
      "   macro avg       0.75      0.76      0.75     18000\n",
      "weighted avg       0.76      0.75      0.75     18000\n",
      "\n"
     ]
    }
   ],
   "source": [
    "model = Sequential()\n",
    "\n",
    "model.add(Dense(250, input_shape = (1024,), activation = 'relu'))\n",
    "model.add(BatchNormalization())\n",
    "model.add(Dropout(0.5))\n",
    "\n",
    "model.add(Dense(250, input_shape = (250,), activation = 'relu'))\n",
    "model.add(BatchNormalization())\n",
    "model.add(Dropout(0.5))\n",
    "\n",
    "model.add(Dense(125, input_shape = (250,), activation = 'relu'))\n",
    "model.add(BatchNormalization())\n",
    "model.add(Dropout(0.5))\n",
    "\n",
    "model.add(Dense(10, activation = 'sigmoid'))\n",
    "sgd = optimizers.Adam(lr = 0.01 , beta_1=0.9 , decay =0)\n",
    "\n",
    "model.compile(optimizer = sgd, loss = 'binary_crossentropy', metrics=['accuracy'])\n",
    "model.summary()\n",
    "model.fit(X_train, y_train, batch_size = 1000, epochs = 50, verbose = 1,validation_data=(X_val, y_val))\n",
    "Y_pred_cls = model.predict_classes(X_test, batch_size=200, verbose=0)\n",
    "\n",
    "print('Accuracy') \n",
    "print( str(model.evaluate(X_test,y_test)[1]) )\n",
    "\n",
    "\n",
    "label=np.argmax(y_test.T, axis=0)\n",
    "print(confusion_matrix(label, Y_pred_cls))\n",
    "print(classification_report(Y_pred_cls, label))    "
   ]
  },
  {
   "cell_type": "code",
   "execution_count": 35,
   "metadata": {
    "colab": {
     "base_uri": "https://localhost:8080/",
     "height": 300
    },
    "colab_type": "code",
    "id": "2zsEKvYuaz0N",
    "outputId": "32ad0079-2565-4987-b0d0-016fa48c067e"
   },
   "outputs": [
    {
     "name": "stdout",
     "output_type": "stream",
     "text": [
      "1\n",
      "4\n"
     ]
    },
    {
     "data": {
      "image/png": "[encoded data removed]",
      "text/plain": [
       "<Figure size 432x288 with 1 Axes>"
      ]
     },
     "metadata": {
      "tags": []
     },
     "output_type": "display_data"
    }
   ],
   "source": [
    "plt.imshow(X_test[56].reshape(32,32))\n",
    "print(label[56])\n",
    "print(Y_pred_cls[56])"
   ]
  },
  {
   "cell_type": "code",
   "execution_count": 36,
   "metadata": {
    "colab": {
     "base_uri": "https://localhost:8080/",
     "height": 300
    },
    "colab_type": "code",
    "id": "IQY1YO8sbO1J",
    "outputId": "436317f3-34f9-4da5-cda8-5ef883734d1a"
   },
   "outputs": [
    {
     "name": "stdout",
     "output_type": "stream",
     "text": [
      "2\n",
      "2\n"
     ]
    },
    {
     "data": {
      "image/png": "[encoded data removed]",
      "text/plain": [
       "<Figure size 432x288 with 1 Axes>"
      ]
     },
     "metadata": {
      "tags": []
     },
     "output_type": "display_data"
    }
   ],
   "source": [
    "plt.imshow(X_test[66].reshape(32,32))\n",
    "print(label[66])\n",
    "print(Y_pred_cls[66])"
   ]
  },
  {
   "cell_type": "markdown",
   "metadata": {
    "colab_type": "text",
    "id": "PmdNRCvzcAzo"
   },
   "source": [
    "CONCLUSION:"
   ]
  },
  {
   "cell_type": "markdown",
   "metadata": {
    "colab_type": "text",
    "id": "eXZW7XwWbhKt"
   },
   "source": [
    "From the figures, we see that the numbers 1,4,7 are confusing for the model.\n",
    "\n",
    "When compared to normal ML algorithm(KNN), Neural networks perform well due to its feature extraction compatibility."
   ]
  },
  {
   "cell_type": "code",
   "execution_count": 0,
   "metadata": {
    "colab": {},
    "colab_type": "code",
    "id": "UAmfLWFcb3QD"
   },
   "outputs": [],
   "source": []
  }
 ],
 "metadata": {
  "accelerator": "GPU",
  "colab": {
   "collapsed_sections": [],
   "name": "Untitled3.ipynb",
   "provenance": [],
   "toc_visible": true
  },
  "kernelspec": {
   "display_name": "Python 3",
   "language": "python",
   "name": "python3"
  },
  "language_info": {
   "codemirror_mode": {
    "name": "ipython",
    "version": 3
   },
   "file_extension": ".py",
   "mimetype": "text/x-python",
   "name": "python",
   "nbconvert_exporter": "python",
   "pygments_lexer": "ipython3",
   "version": "3.7.1"
  }
 },
 "nbformat": 4,
 "nbformat_minor": 1
}
